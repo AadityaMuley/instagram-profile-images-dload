{
 "metadata": {
  "language_info": {
   "codemirror_mode": {
    "name": "ipython",
    "version": 3
   },
   "file_extension": ".py",
   "mimetype": "text/x-python",
   "name": "python",
   "nbconvert_exporter": "python",
   "pygments_lexer": "ipython3",
   "version": "3.6.9-final"
  },
  "orig_nbformat": 2,
  "kernelspec": {
   "name": "python3",
   "display_name": "Python 3.6.9 64-bit",
   "metadata": {
    "interpreter": {
     "hash": "31f2aee4e71d21fbe5cf8b01ff0e069b9275f58929596ceb00d14d90e3e16cd6"
    }
   }
  }
 },
 "nbformat": 4,
 "nbformat_minor": 2,
 "cells": [
  {
   "cell_type": "code",
   "execution_count": 34,
   "metadata": {},
   "outputs": [],
   "source": [
    "import os\n",
    "import sys\n",
    "import requests\n",
    "from bs4 import BeautifulSoup\n",
    "from selenium import webdriver\n",
    "import urllib\n",
    "from datetime import datetime"
   ]
  },
  {
   "cell_type": "code",
   "execution_count": 35,
   "metadata": {},
   "outputs": [],
   "source": [
    "def dload_img(url):\n",
    "    img_name = \"/home/aaditya/Downloads/insta-imgs/\"+str(datetime.now().strftime(\"%H:%M:%S\"))+\".jpg\"\n",
    "    urllib.request.urlretrieve(url, img_name)\n",
    "\t# resource = urllib.request.urlopen(url)\n",
    "\t# filename = destination+names+\".jpg\"\n",
    "\t# output = open(filename, \"wb\")\n",
    "\t# output.write(resource.read())\n",
    "\t# output.close"
   ]
  },
  {
   "cell_type": "code",
   "execution_count": 36,
   "metadata": {},
   "outputs": [],
   "source": [
    "header = {\"User-Agent\": \"Mozilla/5.0 (X11; Linux x86_64) AppleWebKit/537.36 (KHTML, like Gecko) Chrome/89.0.4389.82 Safari/537.36\"}\n",
    "url = \"https://www.instagram.com/codechef_apsit_chapter/\"\n",
    "response = requests.get(url, headers = header)"
   ]
  },
  {
   "cell_type": "code",
   "execution_count": 37,
   "metadata": {},
   "outputs": [],
   "source": [
    "DRIVER_PATH = \"/usr/local/bin/chromedriver\"\n",
    "driver = webdriver.Chrome(executable_path = DRIVER_PATH)\n",
    "driver.get(url)"
   ]
  },
  {
   "cell_type": "code",
   "execution_count": 38,
   "metadata": {},
   "outputs": [
    {
     "output_type": "stream",
     "name": "stdout",
     "text": [
      "Link Found: https://www.instagram.com/p/CKos0dHBY3F/\nLink Found: https://www.instagram.com/p/CKoswrchS8M/\nLink Found: https://www.instagram.com/p/CKosdt_hzi0/\nLink Found: https://www.instagram.com/p/CJgkiLOBpVA/\nLink Found: https://www.instagram.com/p/CJgkLVsBsSB/\nLink Found: https://www.instagram.com/p/CJgj8sFhcI8/\nLink Found: https://www.instagram.com/p/CIU91JVBPZ7/\nLink Found: https://www.instagram.com/p/CIU9pgRhMWw/\nLink Found: https://www.instagram.com/p/CIU9NfLhfLz/\nLink Found: https://www.instagram.com/p/CHnfl5Ghuui/\nLink Found: https://www.instagram.com/p/CHnDVIwhShC/\nLink Found: https://www.instagram.com/p/CHkOGoRBpwn/\n"
     ]
    }
   ],
   "source": [
    "soup = BeautifulSoup(driver.page_source, \"html.parser\")\n",
    "img_links = []\n",
    "for i in soup.find_all(\"a\", href = True):\n",
    "\tif i[\"href\"].startswith(\"/p\"):\n",
    "\t\tprint(\"Link Found: https://www.instagram.com{0}\".format(i[\"href\"]))\n",
    "\t\timg_links.append(\"https://www.instagram.com\"+i[\"href\"])"
   ]
  },
  {
   "cell_type": "code",
   "execution_count": 39,
   "metadata": {},
   "outputs": [],
   "source": [
    "for i,j in enumerate(img_links):\n",
    "\tdriver2 = webdriver.Chrome(executable_path = DRIVER_PATH)\n",
    "\tdriver2.get(j)\n",
    "\tsoup2 = BeautifulSoup(driver2.page_source, \"html.parser\")\n",
    "\tif(len(soup2.find_all('div',{\"class\":\"eLAPa _23QFA\"})) > 0):\n",
    "\t\t#print(soup2.find_all('div',{\"class\":\"eLAPa _23QFA\"})[0].find_all(\"img\")[0][\"src\"])\n",
    "\t    img_links2 = soup2.find_all('div',{\"class\":\"eLAPa _23QFA\"})[0].find_all(\"img\")[0][\"src\"]\n",
    "\t    dload_img(img_links2)\n",
    "\tdriver2.quit()"
   ]
  }
 ]
}