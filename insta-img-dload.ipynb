{
 "metadata": {
  "language_info": {
   "codemirror_mode": {
    "name": "ipython",
    "version": 3
   },
   "file_extension": ".py",
   "mimetype": "text/x-python",
   "name": "python",
   "nbconvert_exporter": "python",
   "pygments_lexer": "ipython3",
   "version": "3.6.9-final"
  },
  "orig_nbformat": 2,
  "kernelspec": {
   "name": "python3",
   "display_name": "Python 3.6.9 64-bit",
   "metadata": {
    "interpreter": {
     "hash": "31f2aee4e71d21fbe5cf8b01ff0e069b9275f58929596ceb00d14d90e3e16cd6"
    }
   }
  }
 },
 "nbformat": 4,
 "nbformat_minor": 2,
 "cells": [
  {
   "cell_type": "code",
   "execution_count": null,
   "metadata": {},
   "outputs": [],
   "source": [
    "import os\n",
    "import sys\n",
    "import requests\n",
    "from bs4 import BeautifulSoup\n",
    "from selenium import webdriver\n",
    "import urllib\n",
    "from datetime import datetime"
   ]
  },
  {
   "cell_type": "code",
   "execution_count": null,
   "metadata": {},
   "outputs": [],
   "source": [
    "img_path = \"\""
   ]
  },
  {
   "cell_type": "code",
   "execution_count": null,
   "metadata": {},
   "outputs": [],
   "source": [
    "def dload_img(url):\n",
    "    img_name = img_path+str(datetime.now().strftime(\"%H:%M:%S\"))+\".jpg\"\n",
    "    urllib.request.urlretrieve(url, img_name)\n",
    "\t# resource = urllib.request.urlopen(url)\n",
    "\t# filename = destination+names+\".jpg\"\n",
    "\t# output = open(filename, \"wb\")\n",
    "\t# output.write(resource.read())\n",
    "\t# output.close"
   ]
  },
  {
   "cell_type": "code",
   "execution_count": null,
   "metadata": {},
   "outputs": [],
   "source": [
    "header = {\"User-Agent\": \"Mozilla/5.0 (X11; Linux x86_64) AppleWebKit/537.36 (KHTML, like Gecko) Chrome/89.0.4389.82 Safari/537.36\"}\n",
    "print(\"Enter Instagram profile url:\")\n",
    "url = input()\n",
    "print(\"Enter path where you want to store downloaded images\")\n",
    "img_path = input()\n",
    "response = requests.get(url, headers = header)"
   ]
  },
  {
   "cell_type": "code",
   "execution_count": null,
   "metadata": {},
   "outputs": [],
   "source": [
    "DRIVER_PATH = \"/usr/local/bin/chromedriver\"\n",
    "driver = webdriver.Chrome(executable_path = DRIVER_PATH)\n",
    "driver.get(url)"
   ]
  },
  {
   "cell_type": "code",
   "execution_count": null,
   "metadata": {},
   "outputs": [],
   "source": [
    "soup = BeautifulSoup(driver.page_source, \"html.parser\")\n",
    "img_links = []\n",
    "for i in soup.find_all(\"a\", href = True):\n",
    "\tif i[\"href\"].startswith(\"/p\"):\n",
    "\t\tprint(\"Link Found: https://www.instagram.com{0}\".format(i[\"href\"]))\n",
    "\t\timg_links.append(\"https://www.instagram.com\"+i[\"href\"])"
   ]
  },
  {
   "cell_type": "code",
   "execution_count": null,
   "metadata": {},
   "outputs": [],
   "source": [
    "for i,j in enumerate(img_links):\n",
    "\tdriver2 = webdriver.Chrome(executable_path = DRIVER_PATH)\n",
    "\tdriver2.get(j)\n",
    "\tsoup2 = BeautifulSoup(driver2.page_source, \"html.parser\")\n",
    "\tif(len(soup2.find_all('div',{\"class\":\"eLAPa _23QFA\"})) > 0):\n",
    "\t\t#print(soup2.find_all('div',{\"class\":\"eLAPa _23QFA\"})[0].find_all(\"img\")[0][\"src\"])\n",
    "\t    img_links2 = soup2.find_all('div',{\"class\":\"eLAPa _23QFA\"})[0].find_all(\"img\")[0][\"src\"]\n",
    "\t    dload_img(img_links2)\n",
    "\tdriver2.quit()"
   ]
  }
 ]
}